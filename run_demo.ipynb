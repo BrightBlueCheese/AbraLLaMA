{
 "cells": [
  {
   "cell_type": "code",
   "execution_count": 1,
   "id": "409f39ea-9d44-4eec-b409-0360c47e00bf",
   "metadata": {},
   "outputs": [
    {
     "name": "stderr",
     "output_type": "stream",
     "text": [
      "2024-06-18 18:07:26.154382: I tensorflow/core/util/port.cc:111] oneDNN custom operations are on. You may see slightly different numerical results due to floating-point round-off errors from different computation orders. To turn them off, set the environment variable `TF_ENABLE_ONEDNN_OPTS=0`.\n",
      "2024-06-18 18:07:26.190265: E tensorflow/compiler/xla/stream_executor/cuda/cuda_dnn.cc:9342] Unable to register cuDNN factory: Attempting to register factory for plugin cuDNN when one has already been registered\n",
      "2024-06-18 18:07:26.190290: E tensorflow/compiler/xla/stream_executor/cuda/cuda_fft.cc:609] Unable to register cuFFT factory: Attempting to register factory for plugin cuFFT when one has already been registered\n",
      "2024-06-18 18:07:26.190311: E tensorflow/compiler/xla/stream_executor/cuda/cuda_blas.cc:1518] Unable to register cuBLAS factory: Attempting to register factory for plugin cuBLAS when one has already been registered\n",
      "2024-06-18 18:07:26.196796: I tensorflow/core/platform/cpu_feature_guard.cc:182] This TensorFlow binary is optimized to use available CPU instructions in performance-critical operations.\n",
      "To enable the following instructions: AVX2 AVX512F AVX512_VNNI FMA, in other operations, rebuild TensorFlow with the appropriate compiler flags.\n",
      "2024-06-18 18:07:27.009534: W tensorflow/compiler/tf2tensorrt/utils/py_utils.cc:38] TF-TRT Warning: Could not find TensorRT\n"
     ]
    },
    {
     "name": "stdout",
     "output_type": "stream",
     "text": [
      "/home/ylee/SolLlama\n"
     ]
    },
    {
     "name": "stderr",
     "output_type": "stream",
     "text": [
      "/home/ylee/chemllm/lib/python3.11/site-packages/pl_bolts/models/self_supervised/amdim/amdim_module.py:34: UnderReviewWarning: The feature generate_power_seq is currently marked under review. The compatibility with other Lightning projects is not guaranteed and API may change at any time. The API and functionality may change without warning in future releases. More details: https://lightning-bolts.readthedocs.io/en/latest/stability.html\n",
      "  \"lr_options\": generate_power_seq(LEARNING_RATE_CIFAR, 11),\n",
      "/home/ylee/chemllm/lib/python3.11/site-packages/pl_bolts/models/self_supervised/amdim/amdim_module.py:92: UnderReviewWarning: The feature FeatureMapContrastiveTask is currently marked under review. The compatibility with other Lightning projects is not guaranteed and API may change at any time. The API and functionality may change without warning in future releases. More details: https://lightning-bolts.readthedocs.io/en/latest/stability.html\n",
      "  contrastive_task: Union[FeatureMapContrastiveTask] = FeatureMapContrastiveTask(\"01, 02, 11\"),\n",
      "/home/ylee/chemllm/lib/python3.11/site-packages/pl_bolts/losses/self_supervised_learning.py:228: UnderReviewWarning: The feature AmdimNCELoss is currently marked under review. The compatibility with other Lightning projects is not guaranteed and API may change at any time. The API and functionality may change without warning in future releases. More details: https://lightning-bolts.readthedocs.io/en/latest/stability.html\n",
      "  self.nce_loss = AmdimNCELoss(tclip)\n"
     ]
    }
   ],
   "source": [
    "import sys\n",
    "import os\n",
    "\n",
    "# This means you will use the first GPU among the four GPUs in our case.\n",
    "# \"0\", \"1\", \"2\", \"3\". Since FT dataset is small, using one GPU should be proper.\n",
    "os.environ[\"CUDA_VISIBLE_DEVICES\"]= \"0\"\n",
    "\n",
    "\n",
    "import torch\n",
    "import numpy as np\n",
    "import pandas as pd\n",
    "import warnings\n",
    "import lightning as L\n",
    "torch.set_float32_matmul_precision('high')\n",
    "\n",
    "# Filter out FutureWarning and UnderReviewWarning messages from pl_bolts\n",
    "warnings.filterwarnings(\"ignore\", module=\"pl_bolts\")\n",
    "\n",
    "# Add the parent directory to sys.path\n",
    "sys.path.append( '../')\n",
    "\n",
    "from lightning.pytorch.loggers import CSVLogger\n",
    "from lightning.pytorch.callbacks import ModelCheckpoint\n",
    "import tokenizer_sol, datamodule_finetune_sol, model_finetune_sol, chemllama_mtr, utils_sol\n",
    "import auto_evaluator_sol\n",
    "\n",
    "# print(os.path.dirname(__file__))\n",
    "\n",
    "\n",
    "torch.manual_seed(1004)\n",
    "np.random.seed(1004)\n",
    "\n",
    "print(os.getcwd())"
   ]
  },
  {
   "cell_type": "code",
   "execution_count": 2,
   "id": "4e9df160-14e0-4a5b-a3fa-6dfc4a89c3d4",
   "metadata": {},
   "outputs": [],
   "source": [
    "# Clone the pretrained model's repository\n",
    "# utils_sol.get_pretrained_model()"
   ]
  },
  {
   "cell_type": "code",
   "execution_count": 3,
   "id": "2bde15fc-8bf0-4b67-a19b-cd56056485d8",
   "metadata": {},
   "outputs": [],
   "source": [
    "#### Hyper Parameters ##### <- You can control these parameters as you want\n",
    "# solute_or_solvent = 'solvent'\n",
    "solute_or_solvent = 'solute'\n",
    "ver_ft = 0 # version control for FT model & evaluation data # Or it will overwrite the models and results\n",
    "batch_size_pair = [64, 64] if solute_or_solvent == 'solute' else [10, 10] # [train, valid(test)] \n",
    "# since 'solute' has very small dataset. So I thinl 10 for train and 10 for valid(test) should be the maximum values.\n",
    "lr = 0.0001 \n",
    "epochs = 7\n",
    "use_freeze = False  # Freeze the model or not # False measn not freezing\n",
    "overwrite_level_2 = True # If you don't want to overwrite the models and csv files, then change this to False\n",
    "###########################"
   ]
  },
  {
   "cell_type": "code",
   "execution_count": 4,
   "id": "a3325877-0cc8-40a7-aa28-612a06e7fb39",
   "metadata": {},
   "outputs": [],
   "source": [
    "max_seq_length = 512\n",
    "tokenizer = tokenizer_sol.fn_load_tokenizer_llama(\n",
    "    max_seq_length=max_seq_length,\n",
    ")\n",
    "max_length = max_seq_length\n",
    "num_workers = 2"
   ]
  },
  {
   "cell_type": "code",
   "execution_count": 5,
   "id": "61ecff8d-1e37-49f5-9f54-839a44d99ae6",
   "metadata": {},
   "outputs": [],
   "source": [
    "################################\n",
    "ep = 6 # this is the target epoch to load the trained fine-tuned model\n",
    "# dir_main = \"/home/ylee/SolLlama\"\n",
    "dir_main = \"./\"\n",
    "#################################\n",
    "name_model_mtr = \"ChemLlama_Medium_30m_vloss_val_loss=0.029_ep_epoch=04.ckpt\" \n",
    "\n",
    "dir_model_mtr = f\"{dir_main}/model_mtr/{name_model_mtr}\"\n",
    "\n",
    "ver_ft = 0\n",
    "dir_model_ft_to_save = f\"{dir_main}/save_models_ft/ft_version_{ver_ft}\"\n",
    "name_model_ft = f'AbraLlama_{solute_or_solvent}'"
   ]
  },
  {
   "cell_type": "code",
   "execution_count": 6,
   "id": "286c8c2f-0ff9-4043-ae84-9e5e57b191b7",
   "metadata": {},
   "outputs": [
    {
     "name": "stderr",
     "output_type": "stream",
     "text": [
      "/home/ylee/chemllm/lib/python3.11/site-packages/lightning/fabric/plugins/environments/slurm.py:204: The `srun` command is available on your system but is not used. HINT: If your intention is to run Lightning on SLURM, prepend your python command with `srun` like so: srun python3 /opt/software/jupyter-server/2.7.2-GCCcore-12.3.0/l ...\n",
      "GPU available: True (cuda), used: True\n",
      "TPU available: False, using: 0 TPU cores\n",
      "IPU available: False, using: 0 IPUs\n",
      "HPU available: False, using: 0 HPUs\n",
      "/home/ylee/chemllm/lib/python3.11/site-packages/lightning/fabric/plugins/environments/slurm.py:204: The `srun` command is available on your system but is not used. HINT: If your intention is to run Lightning on SLURM, prepend your python command with `srun` like so: srun python3 /opt/software/jupyter-server/2.7.2-GCCcore-12.3.0/l ...\n",
      "/home/ylee/chemllm/lib/python3.11/site-packages/lightning/fabric/loggers/csv_logs.py:268: Experiment logs directory .//save_models_ft/ft_version_0/AbraLlama_solute/version_0 exists and is not empty. Previous log files in this directory will be deleted when the new ones are saved!\n",
      "/home/ylee/chemllm/lib/python3.11/site-packages/lightning/pytorch/callbacks/model_checkpoint.py:653: Checkpoint directory .//save_models_ft/ft_version_0/AbraLlama_solute/version_0/checkpoints exists and is not empty.\n",
      "LOCAL_RANK: 0 - CUDA_VISIBLE_DEVICES: [0]\n",
      "/home/ylee/SolLlama/model_finetune_sol.py:131: UnderReviewWarning: The feature LinearWarmupCosineAnnealingLR is currently marked under review. The compatibility with other Lightning projects is not guaranteed and API may change at any time. The API and functionality may change without warning in future releases. More details: https://lightning-bolts.readthedocs.io/en/latest/stability.html\n",
      "  scheduler = LinearWarmupCosineAnnealingLR(\n",
      "\n",
      "  | Name       | Type      | Params\n",
      "-----------------------------------------\n",
      "0 | model_mtr  | ChemLlama | 29.4 M\n",
      "1 | gelu       | GELU      | 0     \n",
      "2 | linear1    | Linear    | 6.8 K \n",
      "3 | linear2    | Linear    | 4.2 K \n",
      "4 | regression | Linear    | 325   \n",
      "5 | loss_fn    | L1Loss    | 0     \n",
      "-----------------------------------------\n",
      "29.5 M    Trainable params\n",
      "0         Non-trainable params\n",
      "29.5 M    Total params\n",
      "117.835   Total estimated model params size (MB)\n"
     ]
    },
    {
     "data": {
      "application/vnd.jupyter.widget-view+json": {
       "model_id": "",
       "version_major": 2,
       "version_minor": 0
      },
      "text/plain": [
       "Sanity Checking: |          | 0/? [00:00<?, ?it/s]"
      ]
     },
     "metadata": {},
     "output_type": "display_data"
    },
    {
     "name": "stderr",
     "output_type": "stream",
     "text": [
      "/home/ylee/SolLlama/datamodule_finetune_sol.py:35: FutureWarning: Series.__getitem__ treating keys as positions is deprecated. In a future version, integer keys will always be treated as labels (consistent with DataFrame behavior). To access a value by position, use `ser.iloc[pos]`\n",
      "  \"labels\": torch.tensor(self.labels.iloc[idx]),\n",
      "/home/ylee/SolLlama/datamodule_finetune_sol.py:35: FutureWarning: Series.__getitem__ treating keys as positions is deprecated. In a future version, integer keys will always be treated as labels (consistent with DataFrame behavior). To access a value by position, use `ser.iloc[pos]`\n",
      "  \"labels\": torch.tensor(self.labels.iloc[idx]),\n",
      "/home/ylee/SolLlama/datamodule_finetune_sol.py:35: FutureWarning: Series.__getitem__ treating keys as positions is deprecated. In a future version, integer keys will always be treated as labels (consistent with DataFrame behavior). To access a value by position, use `ser.iloc[pos]`\n",
      "  \"labels\": torch.tensor(self.labels.iloc[idx]),\n"
     ]
    },
    {
     "data": {
      "application/vnd.jupyter.widget-view+json": {
       "model_id": "9f3405149fed4786ad9f9fdb980ad3bf",
       "version_major": 2,
       "version_minor": 0
      },
      "text/plain": [
       "Training: |          | 0/? [00:00<?, ?it/s]"
      ]
     },
     "metadata": {},
     "output_type": "display_data"
    },
    {
     "name": "stderr",
     "output_type": "stream",
     "text": [
      "/home/ylee/SolLlama/datamodule_finetune_sol.py:35: FutureWarning: Series.__getitem__ treating keys as positions is deprecated. In a future version, integer keys will always be treated as labels (consistent with DataFrame behavior). To access a value by position, use `ser.iloc[pos]`\n",
      "  \"labels\": torch.tensor(self.labels.iloc[idx]),\n",
      "/home/ylee/SolLlama/datamodule_finetune_sol.py:35: FutureWarning: Series.__getitem__ treating keys as positions is deprecated. In a future version, integer keys will always be treated as labels (consistent with DataFrame behavior). To access a value by position, use `ser.iloc[pos]`\n",
      "  \"labels\": torch.tensor(self.labels.iloc[idx]),\n"
     ]
    },
    {
     "data": {
      "application/vnd.jupyter.widget-view+json": {
       "model_id": "",
       "version_major": 2,
       "version_minor": 0
      },
      "text/plain": [
       "Validation: |          | 0/? [00:00<?, ?it/s]"
      ]
     },
     "metadata": {},
     "output_type": "display_data"
    },
    {
     "name": "stderr",
     "output_type": "stream",
     "text": [
      "/home/ylee/SolLlama/datamodule_finetune_sol.py:35: FutureWarning: Series.__getitem__ treating keys as positions is deprecated. In a future version, integer keys will always be treated as labels (consistent with DataFrame behavior). To access a value by position, use `ser.iloc[pos]`\n",
      "  \"labels\": torch.tensor(self.labels.iloc[idx]),\n",
      "/home/ylee/SolLlama/datamodule_finetune_sol.py:35: FutureWarning: Series.__getitem__ treating keys as positions is deprecated. In a future version, integer keys will always be treated as labels (consistent with DataFrame behavior). To access a value by position, use `ser.iloc[pos]`\n",
      "  \"labels\": torch.tensor(self.labels.iloc[idx]),\n",
      "/home/ylee/SolLlama/datamodule_finetune_sol.py:35: FutureWarning: Series.__getitem__ treating keys as positions is deprecated. In a future version, integer keys will always be treated as labels (consistent with DataFrame behavior). To access a value by position, use `ser.iloc[pos]`\n",
      "  \"labels\": torch.tensor(self.labels.iloc[idx]),\n",
      "/home/ylee/SolLlama/datamodule_finetune_sol.py:35: FutureWarning: Series.__getitem__ treating keys as positions is deprecated. In a future version, integer keys will always be treated as labels (consistent with DataFrame behavior). To access a value by position, use `ser.iloc[pos]`\n",
      "  \"labels\": torch.tensor(self.labels.iloc[idx]),\n",
      "/home/ylee/SolLlama/datamodule_finetune_sol.py:35: FutureWarning: Series.__getitem__ treating keys as positions is deprecated. In a future version, integer keys will always be treated as labels (consistent with DataFrame behavior). To access a value by position, use `ser.iloc[pos]`\n",
      "  \"labels\": torch.tensor(self.labels.iloc[idx]),\n"
     ]
    },
    {
     "data": {
      "application/vnd.jupyter.widget-view+json": {
       "model_id": "",
       "version_major": 2,
       "version_minor": 0
      },
      "text/plain": [
       "Validation: |          | 0/? [00:00<?, ?it/s]"
      ]
     },
     "metadata": {},
     "output_type": "display_data"
    },
    {
     "name": "stderr",
     "output_type": "stream",
     "text": [
      "/home/ylee/SolLlama/datamodule_finetune_sol.py:35: FutureWarning: Series.__getitem__ treating keys as positions is deprecated. In a future version, integer keys will always be treated as labels (consistent with DataFrame behavior). To access a value by position, use `ser.iloc[pos]`\n",
      "  \"labels\": torch.tensor(self.labels.iloc[idx]),\n",
      "/home/ylee/SolLlama/datamodule_finetune_sol.py:35: FutureWarning: Series.__getitem__ treating keys as positions is deprecated. In a future version, integer keys will always be treated as labels (consistent with DataFrame behavior). To access a value by position, use `ser.iloc[pos]`\n",
      "  \"labels\": torch.tensor(self.labels.iloc[idx]),\n",
      "/home/ylee/SolLlama/datamodule_finetune_sol.py:35: FutureWarning: Series.__getitem__ treating keys as positions is deprecated. In a future version, integer keys will always be treated as labels (consistent with DataFrame behavior). To access a value by position, use `ser.iloc[pos]`\n",
      "  \"labels\": torch.tensor(self.labels.iloc[idx]),\n"
     ]
    },
    {
     "data": {
      "application/vnd.jupyter.widget-view+json": {
       "model_id": "",
       "version_major": 2,
       "version_minor": 0
      },
      "text/plain": [
       "Validation: |          | 0/? [00:00<?, ?it/s]"
      ]
     },
     "metadata": {},
     "output_type": "display_data"
    },
    {
     "name": "stderr",
     "output_type": "stream",
     "text": [
      "/home/ylee/SolLlama/datamodule_finetune_sol.py:35: FutureWarning: Series.__getitem__ treating keys as positions is deprecated. In a future version, integer keys will always be treated as labels (consistent with DataFrame behavior). To access a value by position, use `ser.iloc[pos]`\n",
      "  \"labels\": torch.tensor(self.labels.iloc[idx]),\n",
      "/home/ylee/SolLlama/datamodule_finetune_sol.py:35: FutureWarning: Series.__getitem__ treating keys as positions is deprecated. In a future version, integer keys will always be treated as labels (consistent with DataFrame behavior). To access a value by position, use `ser.iloc[pos]`\n",
      "  \"labels\": torch.tensor(self.labels.iloc[idx]),\n",
      "/home/ylee/SolLlama/datamodule_finetune_sol.py:35: FutureWarning: Series.__getitem__ treating keys as positions is deprecated. In a future version, integer keys will always be treated as labels (consistent with DataFrame behavior). To access a value by position, use `ser.iloc[pos]`\n",
      "  \"labels\": torch.tensor(self.labels.iloc[idx]),\n",
      "/home/ylee/SolLlama/datamodule_finetune_sol.py:35: FutureWarning: Series.__getitem__ treating keys as positions is deprecated. In a future version, integer keys will always be treated as labels (consistent with DataFrame behavior). To access a value by position, use `ser.iloc[pos]`\n",
      "  \"labels\": torch.tensor(self.labels.iloc[idx]),\n",
      "/home/ylee/SolLlama/datamodule_finetune_sol.py:35: FutureWarning: Series.__getitem__ treating keys as positions is deprecated. In a future version, integer keys will always be treated as labels (consistent with DataFrame behavior). To access a value by position, use `ser.iloc[pos]`\n",
      "  \"labels\": torch.tensor(self.labels.iloc[idx]),\n"
     ]
    },
    {
     "data": {
      "application/vnd.jupyter.widget-view+json": {
       "model_id": "",
       "version_major": 2,
       "version_minor": 0
      },
      "text/plain": [
       "Validation: |          | 0/? [00:00<?, ?it/s]"
      ]
     },
     "metadata": {},
     "output_type": "display_data"
    },
    {
     "name": "stderr",
     "output_type": "stream",
     "text": [
      "/home/ylee/SolLlama/datamodule_finetune_sol.py:35: FutureWarning: Series.__getitem__ treating keys as positions is deprecated. In a future version, integer keys will always be treated as labels (consistent with DataFrame behavior). To access a value by position, use `ser.iloc[pos]`\n",
      "  \"labels\": torch.tensor(self.labels.iloc[idx]),\n",
      "/home/ylee/SolLlama/datamodule_finetune_sol.py:35: FutureWarning: Series.__getitem__ treating keys as positions is deprecated. In a future version, integer keys will always be treated as labels (consistent with DataFrame behavior). To access a value by position, use `ser.iloc[pos]`\n",
      "  \"labels\": torch.tensor(self.labels.iloc[idx]),\n"
     ]
    },
    {
     "data": {
      "application/vnd.jupyter.widget-view+json": {
       "model_id": "",
       "version_major": 2,
       "version_minor": 0
      },
      "text/plain": [
       "Validation: |          | 0/? [00:00<?, ?it/s]"
      ]
     },
     "metadata": {},
     "output_type": "display_data"
    },
    {
     "name": "stderr",
     "output_type": "stream",
     "text": [
      "/home/ylee/SolLlama/datamodule_finetune_sol.py:35: FutureWarning: Series.__getitem__ treating keys as positions is deprecated. In a future version, integer keys will always be treated as labels (consistent with DataFrame behavior). To access a value by position, use `ser.iloc[pos]`\n",
      "  \"labels\": torch.tensor(self.labels.iloc[idx]),\n",
      "/home/ylee/SolLlama/datamodule_finetune_sol.py:35: FutureWarning: Series.__getitem__ treating keys as positions is deprecated. In a future version, integer keys will always be treated as labels (consistent with DataFrame behavior). To access a value by position, use `ser.iloc[pos]`\n",
      "  \"labels\": torch.tensor(self.labels.iloc[idx]),\n",
      "/home/ylee/SolLlama/datamodule_finetune_sol.py:35: FutureWarning: Series.__getitem__ treating keys as positions is deprecated. In a future version, integer keys will always be treated as labels (consistent with DataFrame behavior). To access a value by position, use `ser.iloc[pos]`\n",
      "  \"labels\": torch.tensor(self.labels.iloc[idx]),\n",
      "/home/ylee/SolLlama/datamodule_finetune_sol.py:35: FutureWarning: Series.__getitem__ treating keys as positions is deprecated. In a future version, integer keys will always be treated as labels (consistent with DataFrame behavior). To access a value by position, use `ser.iloc[pos]`\n",
      "  \"labels\": torch.tensor(self.labels.iloc[idx]),\n",
      "/home/ylee/SolLlama/datamodule_finetune_sol.py:35: FutureWarning: Series.__getitem__ treating keys as positions is deprecated. In a future version, integer keys will always be treated as labels (consistent with DataFrame behavior). To access a value by position, use `ser.iloc[pos]`\n",
      "  \"labels\": torch.tensor(self.labels.iloc[idx]),\n",
      "/home/ylee/SolLlama/datamodule_finetune_sol.py:35: FutureWarning: Series.__getitem__ treating keys as positions is deprecated. In a future version, integer keys will always be treated as labels (consistent with DataFrame behavior). To access a value by position, use `ser.iloc[pos]`\n",
      "  \"labels\": torch.tensor(self.labels.iloc[idx]),\n"
     ]
    },
    {
     "data": {
      "application/vnd.jupyter.widget-view+json": {
       "model_id": "",
       "version_major": 2,
       "version_minor": 0
      },
      "text/plain": [
       "Validation: |          | 0/? [00:00<?, ?it/s]"
      ]
     },
     "metadata": {},
     "output_type": "display_data"
    },
    {
     "name": "stderr",
     "output_type": "stream",
     "text": [
      "/home/ylee/SolLlama/datamodule_finetune_sol.py:35: FutureWarning: Series.__getitem__ treating keys as positions is deprecated. In a future version, integer keys will always be treated as labels (consistent with DataFrame behavior). To access a value by position, use `ser.iloc[pos]`\n",
      "  \"labels\": torch.tensor(self.labels.iloc[idx]),\n",
      "/home/ylee/SolLlama/datamodule_finetune_sol.py:35: FutureWarning: Series.__getitem__ treating keys as positions is deprecated. In a future version, integer keys will always be treated as labels (consistent with DataFrame behavior). To access a value by position, use `ser.iloc[pos]`\n",
      "  \"labels\": torch.tensor(self.labels.iloc[idx]),\n",
      "/home/ylee/SolLlama/datamodule_finetune_sol.py:35: FutureWarning: Series.__getitem__ treating keys as positions is deprecated. In a future version, integer keys will always be treated as labels (consistent with DataFrame behavior). To access a value by position, use `ser.iloc[pos]`\n",
      "  \"labels\": torch.tensor(self.labels.iloc[idx]),\n",
      "/home/ylee/SolLlama/datamodule_finetune_sol.py:35: FutureWarning: Series.__getitem__ treating keys as positions is deprecated. In a future version, integer keys will always be treated as labels (consistent with DataFrame behavior). To access a value by position, use `ser.iloc[pos]`\n",
      "  \"labels\": torch.tensor(self.labels.iloc[idx]),\n"
     ]
    },
    {
     "data": {
      "application/vnd.jupyter.widget-view+json": {
       "model_id": "",
       "version_major": 2,
       "version_minor": 0
      },
      "text/plain": [
       "Validation: |          | 0/? [00:00<?, ?it/s]"
      ]
     },
     "metadata": {},
     "output_type": "display_data"
    },
    {
     "name": "stderr",
     "output_type": "stream",
     "text": [
      "`Trainer.fit` stopped: `max_epochs=7` reached.\n",
      "/home/ylee/chemllm/lib/python3.11/site-packages/lightning/fabric/plugins/environments/slurm.py:204: The `srun` command is available on your system but is not used. HINT: If your intention is to run Lightning on SLURM, prepend your python command with `srun` like so: srun python3 /opt/software/jupyter-server/2.7.2-GCCcore-12.3.0/l ...\n",
      "LOCAL_RANK: 0 - CUDA_VISIBLE_DEVICES: [0]\n"
     ]
    },
    {
     "data": {
      "application/vnd.jupyter.widget-view+json": {
       "model_id": "81dc1b5cc0a94b8c958448d7cb5242f1",
       "version_major": 2,
       "version_minor": 0
      },
      "text/plain": [
       "Validation: |          | 0/? [00:00<?, ?it/s]"
      ]
     },
     "metadata": {},
     "output_type": "display_data"
    },
    {
     "name": "stderr",
     "output_type": "stream",
     "text": [
      "/home/ylee/SolLlama/datamodule_finetune_sol.py:35: FutureWarning: Series.__getitem__ treating keys as positions is deprecated. In a future version, integer keys will always be treated as labels (consistent with DataFrame behavior). To access a value by position, use `ser.iloc[pos]`\n",
      "  \"labels\": torch.tensor(self.labels.iloc[idx]),\n",
      "/home/ylee/SolLlama/datamodule_finetune_sol.py:35: FutureWarning: Series.__getitem__ treating keys as positions is deprecated. In a future version, integer keys will always be treated as labels (consistent with DataFrame behavior). To access a value by position, use `ser.iloc[pos]`\n",
      "  \"labels\": torch.tensor(self.labels.iloc[idx]),\n"
     ]
    },
    {
     "data": {
      "text/html": [
       "<pre style=\"white-space:pre;overflow-x:auto;line-height:normal;font-family:Menlo,'DejaVu Sans Mono',consolas,'Courier New',monospace\">┏━━━━━━━━━━━━━━━━━━━━━━━━━━━┳━━━━━━━━━━━━━━━━━━━━━━━━━━━┓\n",
       "┃<span style=\"font-weight: bold\">      Validate metric      </span>┃<span style=\"font-weight: bold\">       DataLoader 0        </span>┃\n",
       "┡━━━━━━━━━━━━━━━━━━━━━━━━━━━╇━━━━━━━━━━━━━━━━━━━━━━━━━━━┩\n",
       "│<span style=\"color: #008080; text-decoration-color: #008080\">         val_loss          </span>│<span style=\"color: #800080; text-decoration-color: #800080\">    0.07019355148077011    </span>│\n",
       "└───────────────────────────┴───────────────────────────┘\n",
       "</pre>\n"
      ],
      "text/plain": [
       "┏━━━━━━━━━━━━━━━━━━━━━━━━━━━┳━━━━━━━━━━━━━━━━━━━━━━━━━━━┓\n",
       "┃\u001b[1m \u001b[0m\u001b[1m     Validate metric     \u001b[0m\u001b[1m \u001b[0m┃\u001b[1m \u001b[0m\u001b[1m      DataLoader 0       \u001b[0m\u001b[1m \u001b[0m┃\n",
       "┡━━━━━━━━━━━━━━━━━━━━━━━━━━━╇━━━━━━━━━━━━━━━━━━━━━━━━━━━┩\n",
       "│\u001b[36m \u001b[0m\u001b[36m        val_loss         \u001b[0m\u001b[36m \u001b[0m│\u001b[35m \u001b[0m\u001b[35m   0.07019355148077011   \u001b[0m\u001b[35m \u001b[0m│\n",
       "└───────────────────────────┴───────────────────────────┘\n"
      ]
     },
     "metadata": {},
     "output_type": "display_data"
    },
    {
     "data": {
      "text/plain": [
       "[{'val_loss': 0.07019355148077011}]"
      ]
     },
     "execution_count": 6,
     "metadata": {},
     "output_type": "execute_result"
    }
   ],
   "source": [
    "# Load dataset for finetune\n",
    "batch_size_for_train = batch_size_pair[0]\n",
    "batch_size_for_valid = batch_size_pair[1]\n",
    "\n",
    "data_module = datamodule_finetune_sol.CustomFinetuneDataModule(\n",
    "    solute_or_solvent=solute_or_solvent,\n",
    "    tokenizer=tokenizer,\n",
    "    max_seq_length=max_length,\n",
    "    batch_size_train=batch_size_for_train,\n",
    "    batch_size_valid=batch_size_for_valid,\n",
    "    # num_device=int(config.NUM_DEVICE) * config.NUM_WORKERS_MULTIPLIER,\n",
    "    num_device=num_workers,\n",
    ")\n",
    "\n",
    "data_module.prepare_data()\n",
    "data_module.setup()\n",
    "steps_per_epoch = len(data_module.train_dataloader())\n",
    "\n",
    "# Load model and optimizer for finetune\n",
    "learning_rate = lr\n",
    "\n",
    "\n",
    "model_mtr = chemllama_mtr.ChemLlama.load_from_checkpoint(dir_model_mtr)\n",
    "\n",
    "\n",
    "model_ft = model_finetune_sol.CustomFinetuneModel(\n",
    "    model_mtr=model_mtr,\n",
    "    steps_per_epoch=steps_per_epoch,\n",
    "    warmup_epochs=1,\n",
    "    max_epochs=epochs,\n",
    "    learning_rate=learning_rate,\n",
    "    # dataset_dict=dataset_dict,\n",
    "    use_freeze=use_freeze,\n",
    ")\n",
    "\n",
    "checkpoint_callback = ModelCheckpoint(\n",
    "    monitor='val_loss',\n",
    "    filename=name_model_ft + '_{epoch:02d}',\n",
    "    every_n_epochs=1,\n",
    "    save_top_k=-1,\n",
    "    enable_version_counter=False, # keep the version == 0\n",
    "    save_weights_only=True,\n",
    ")\n",
    "checkpoint_callback.FILE_EXTENSION = \".pt\"\n",
    "\n",
    "csv_logger = CSVLogger(\n",
    "    save_dir=dir_model_ft_to_save,\n",
    "    name=name_model_ft,\n",
    "    version=0,\n",
    ")\n",
    "\n",
    "trainer = L.Trainer(\n",
    "    default_root_dir=dir_model_ft_to_save,\n",
    "    # profiler=profiler,\n",
    "    logger=csv_logger,\n",
    "    accelerator='auto',\n",
    "    devices='auto',\n",
    "    # accelerator='gpu',\n",
    "    # devices=[0],\n",
    "    min_epochs=1,\n",
    "    max_epochs=epochs,\n",
    "    precision=32,\n",
    "    callbacks=[checkpoint_callback]\n",
    ")\n",
    "trainer.fit(model_ft, data_module)\n",
    "trainer.validate(model_ft, data_module)"
   ]
  },
  {
   "cell_type": "code",
   "execution_count": null,
   "id": "93845864-7131-464a-adfd-fb8aa57c0e36",
   "metadata": {},
   "outputs": [],
   "source": []
  },
  {
   "cell_type": "code",
   "execution_count": 7,
   "id": "08d86c24-1019-4402-9c5a-0cc0a3ac2592",
   "metadata": {},
   "outputs": [
    {
     "name": "stderr",
     "output_type": "stream",
     "text": [
      "/home/ylee/chemllm/lib/python3.11/site-packages/lightning/fabric/plugins/environments/slurm.py:204: The `srun` command is available on your system but is not used. HINT: If your intention is to run Lightning on SLURM, prepend your python command with `srun` like so: srun python3 /opt/software/jupyter-server/2.7.2-GCCcore-12.3.0/l ...\n",
      "LOCAL_RANK: 0 - CUDA_VISIBLE_DEVICES: [0]\n"
     ]
    },
    {
     "name": "stdout",
     "output_type": "stream",
     "text": [
      "Loaded model with epoch 6\n"
     ]
    },
    {
     "data": {
      "application/vnd.jupyter.widget-view+json": {
       "model_id": "108f5aa79a3d4609b3b508b6f0f31aa3",
       "version_major": 2,
       "version_minor": 0
      },
      "text/plain": [
       "Predicting: |          | 0/? [00:00<?, ?it/s]"
      ]
     },
     "metadata": {},
     "output_type": "display_data"
    },
    {
     "name": "stderr",
     "output_type": "stream",
     "text": [
      "/home/ylee/SolLlama/datamodule_finetune_sol.py:35: FutureWarning: Series.__getitem__ treating keys as positions is deprecated. In a future version, integer keys will always be treated as labels (consistent with DataFrame behavior). To access a value by position, use `ser.iloc[pos]`\n",
      "  \"labels\": torch.tensor(self.labels.iloc[idx]),\n",
      "/home/ylee/SolLlama/datamodule_finetune_sol.py:35: FutureWarning: Series.__getitem__ treating keys as positions is deprecated. In a future version, integer keys will always be treated as labels (consistent with DataFrame behavior). To access a value by position, use `ser.iloc[pos]`\n",
      "  \"labels\": torch.tensor(self.labels.iloc[idx]),\n"
     ]
    }
   ],
   "source": [
    "\n",
    "local_model_ft = utils_sol.load_model_ft_with_epoch(\n",
    "    class_model_ft=model_ft, \n",
    "    target_epoch=ep,\n",
    "    dir_model_ft=dir_model_ft_to_save,\n",
    "    name_model_ft=name_model_ft\n",
    ")\n",
    "\n",
    "result = trainer.predict(local_model_ft, data_module)\n",
    "result_pred = list()\n",
    "result_label = list()\n",
    "for bat in range(len(result)):\n",
    "    result_pred.append(result[bat][0].squeeze())\n",
    "    result_label.append(result[bat][1])"
   ]
  },
  {
   "cell_type": "code",
   "execution_count": 8,
   "id": "3b591266-8143-473e-9e8d-57c80a5e2fb8",
   "metadata": {
    "scrolled": true
   },
   "outputs": [
    {
     "data": {
      "text/plain": [
       "tensor([[ 8.1577e-01,  7.3935e-01,  3.4518e-01,  3.8979e-01,  1.3431e+00],\n",
       "        [ 2.6664e-01,  1.0558e+00,  2.0594e-02,  7.9018e-01,  9.7986e-01],\n",
       "        [ 8.0645e-01,  9.9306e-01,  6.4024e-01,  5.7245e-01,  1.2106e+00],\n",
       "        [ 1.9478e-01,  4.1441e-01,  1.0704e-01,  6.1531e-01,  6.3337e-01],\n",
       "        [ 2.4553e-01,  4.4279e-01,  3.1961e-01,  5.5282e-01,  8.5223e-01],\n",
       "        [ 3.1377e-01,  7.8347e-01,  5.6589e-03,  7.1544e-01,  6.5998e-01],\n",
       "        [ 1.0864e-01,  5.6291e-01,  4.7713e-03,  4.3076e-01,  1.7124e+00],\n",
       "        [ 1.7752e+00,  2.1543e+00,  1.3406e-02,  1.4107e+00,  1.7843e+00],\n",
       "        [ 2.0859e+00,  1.5931e+00, -5.9972e-03,  8.9334e-02,  1.9388e+00],\n",
       "        [ 3.7282e-01,  8.3927e-01,  6.0150e-01,  9.5349e-01,  7.8828e-01],\n",
       "        [ 1.3070e+00,  2.4475e+00,  2.5248e-01,  1.7554e+00,  3.4275e+00],\n",
       "        [ 9.9038e-01,  1.3453e+00,  3.1266e-01,  7.1342e-01,  1.6044e+00],\n",
       "        [ 5.6058e-02,  3.7555e-01,  6.2625e-02,  5.8542e-02,  9.2921e-01],\n",
       "        [ 1.2678e+00,  1.1893e+00,  2.8832e-01,  3.2095e-01,  1.1726e+00],\n",
       "        [ 1.6926e+00,  1.7991e+00, -4.4134e-03,  1.0300e+00,  2.4670e+00],\n",
       "        [ 1.4219e-01,  4.3860e-01,  1.8184e-03,  1.1443e-01,  7.2923e-01],\n",
       "        [ 1.2001e-01,  6.6155e-01,  1.9910e-02,  5.1615e-01,  9.7538e-01],\n",
       "        [-5.0128e-01,  1.1438e-01,  1.3466e-02,  6.6578e-02,  8.6449e-01],\n",
       "        [ 8.4802e-01,  8.9398e-01,  1.3547e-01,  7.5687e-01,  1.2281e+00],\n",
       "        [ 1.6157e+00,  2.0208e+00,  1.6903e-01,  1.5418e+00,  2.6221e+00],\n",
       "        [ 6.2760e-01,  9.8093e-01, -6.1465e-03,  5.4679e-01,  2.1146e+00],\n",
       "        [-1.6637e-02, -1.2076e-02, -3.9482e-03, -1.1065e-02,  1.5160e+00],\n",
       "        [ 9.9071e-01,  9.5799e-01,  1.8608e-01,  4.2765e-01,  1.0971e+00],\n",
       "        [ 1.1821e+00,  1.1088e+00, -1.2240e-02,  5.5384e-01,  9.9904e-01],\n",
       "        [ 1.7973e+00,  2.3650e+00,  5.7211e-01,  2.4735e+00,  2.4613e+00],\n",
       "        [ 1.1599e+00,  1.1369e+00,  2.1962e-01,  9.9094e-01,  1.7506e+00],\n",
       "        [ 1.7685e+00,  1.4640e+00,  8.3261e-02,  8.5030e-01,  2.2556e+00],\n",
       "        [ 3.9385e-01,  7.9211e-01,  5.0871e-01,  1.1133e+00,  9.9435e-01],\n",
       "        [ 6.5731e-01,  7.2005e-01,  3.7237e-03,  4.7571e-01,  1.2180e+00],\n",
       "        [ 1.0370e+00,  1.5914e+00, -1.6453e-02,  6.4552e-01,  2.2113e+00],\n",
       "        [ 7.8656e-01,  2.5615e-01, -5.6806e-03,  3.0503e-01,  1.8748e+00],\n",
       "        [ 9.4026e-02,  6.4006e-01,  6.2062e-01,  4.5137e-01,  2.9113e+00],\n",
       "        [ 7.4463e-01,  8.7578e-01,  6.0374e-01,  3.7699e-01,  1.7701e+00],\n",
       "        [-1.2095e-01, -5.1301e-02,  7.7856e-02,  3.0877e-01,  1.5841e+00],\n",
       "        [ 2.3953e+00,  2.2410e+00,  1.8196e-01,  1.8667e+00,  3.0658e+00],\n",
       "        [ 9.7523e-01,  1.1259e+00,  9.3743e-01,  4.9419e-01,  9.9241e-01],\n",
       "        [ 1.1449e+00,  1.7693e+00,  6.3752e-01,  8.5729e-01,  1.2203e+00],\n",
       "        [ 1.0405e+00,  1.1452e+00, -2.2986e-02,  4.7554e-01,  1.1001e+00],\n",
       "        [ 8.9818e-01,  9.1720e-01,  6.4258e-01,  3.8323e-01,  1.1769e+00],\n",
       "        [ 1.4488e-01,  5.5336e-01,  3.4230e-03,  4.8374e-01,  1.2788e+00],\n",
       "        [ 1.6136e-01,  4.9440e-01,  3.5607e-03,  4.5880e-01,  1.5452e+00],\n",
       "        [-4.6986e-01,  2.2497e-01,  1.0802e-02,  1.6858e-01,  1.0163e+00],\n",
       "        [ 2.1100e+00,  1.3644e+00, -1.4036e-03,  2.1359e-01,  1.7458e+00],\n",
       "        [ 1.9567e-01,  8.3295e-01,  2.5516e-01,  1.0800e+00,  1.1308e+00],\n",
       "        [ 3.2007e-01,  1.2603e+00,  3.7093e-01,  6.9240e-01,  9.1577e-01],\n",
       "        [ 8.3229e-01,  1.5379e+00,  4.8778e-01,  6.6872e-01,  7.5559e-01],\n",
       "        [ 2.2461e-01,  7.8160e-01,  6.1670e-01,  1.1352e+00,  2.3772e+00],\n",
       "        [ 1.7359e+00,  1.9770e+00,  3.6108e-01,  1.6390e+00,  2.7835e+00],\n",
       "        [ 2.0661e+00,  1.5896e+00, -9.4555e-03,  9.4473e-02,  1.9227e+00],\n",
       "        [ 2.6363e-02,  7.8430e-03, -5.7419e-04,  4.2899e-03,  1.2185e+00],\n",
       "        [ 8.0715e-01,  6.5793e-01,  4.4150e-03,  1.5769e-01,  1.0298e+00],\n",
       "        [ 1.3449e+00,  1.1155e+00,  2.0541e-02,  5.9484e-01,  1.2665e+00],\n",
       "        [-7.1869e-01, -2.7036e-01,  4.5381e-02,  2.7919e-02,  1.3547e+00],\n",
       "        [ 1.2231e+00,  1.2056e+00, -1.4335e-02,  6.5602e-01,  1.4368e+00],\n",
       "        [ 1.4962e+00,  1.4687e+00,  3.2979e-01,  8.2742e-01,  1.6850e+00],\n",
       "        [ 1.6290e-01,  2.7341e-01, -6.0939e-03,  7.5165e-03,  6.8791e-01],\n",
       "        [ 2.4734e-02,  9.4007e-01,  3.6847e-02,  1.1809e+00,  1.8245e+00],\n",
       "        [ 1.2339e-01,  4.1138e-01,  8.3032e-03,  4.8664e-01,  7.1723e-01],\n",
       "        [ 5.5319e-01,  5.2322e-01,  4.0551e-01,  6.1076e-01,  1.4355e+00],\n",
       "        [ 1.0969e+00,  1.5792e+00,  3.9104e-01,  6.9611e-01,  1.0322e+00],\n",
       "        [ 4.1378e-02,  7.9014e-02,  1.7686e-03,  4.3571e-03,  1.8089e+00],\n",
       "        [ 1.3132e+00,  9.4034e-01, -6.6836e-03,  5.1595e-01,  1.2974e+00],\n",
       "        [ 3.7758e-01,  1.3002e+00,  4.7525e-02,  1.7138e+00,  1.7583e+00],\n",
       "        [-3.0410e-01, -7.7229e-02,  6.3108e-03,  4.7041e-01,  2.9370e+00]])"
      ]
     },
     "execution_count": 8,
     "metadata": {},
     "output_type": "execute_result"
    }
   ],
   "source": [
    "result_pred[0]"
   ]
  },
  {
   "cell_type": "code",
   "execution_count": 9,
   "id": "8abcc91f-526a-4adc-b427-de5e2009a5f4",
   "metadata": {
    "scrolled": true
   },
   "outputs": [
    {
     "data": {
      "text/plain": [
       "tensor([[ 0.8200,  0.8000,  0.5300,  0.3800,  1.3387],\n",
       "        [ 0.2600,  1.3100,  0.0600,  0.8100,  0.9854],\n",
       "        [ 0.7300,  0.9700,  0.6000,  0.6400,  1.2135],\n",
       "        [ 0.1800,  0.3500,  0.0800,  0.6300,  0.6311],\n",
       "        [ 0.2900,  0.4500,  0.3000,  0.4100,  0.8288],\n",
       "        [ 0.3300,  0.7500,  0.0000,  0.6400,  0.6810],\n",
       "        [ 0.2900,  0.7200,  0.0000,  0.3500,  1.6774],\n",
       "        [ 1.5000,  2.4100,  0.0000,  1.3400,  1.8016],\n",
       "        [ 2.1000,  1.5700,  0.0000,  0.0900,  1.9362],\n",
       "        [ 0.3700,  0.9300,  0.6000,  0.8800,  0.7896],\n",
       "        [ 1.3500,  2.5500,  0.3200,  1.8600,  3.4268],\n",
       "        [ 1.0000,  1.3600,  0.2800,  0.7100,  1.5951],\n",
       "        [ 0.0400,  0.6800,  0.1000,  0.1100,  0.8995],\n",
       "        [ 1.2600,  1.2700,  0.4000,  0.1300,  1.1834],\n",
       "        [ 1.6000,  2.4400,  0.0000,  1.0100,  2.4330],\n",
       "        [ 0.1300,  0.6500,  0.0000,  0.1300,  0.7417],\n",
       "        [ 0.1100,  0.6500,  0.0000,  0.5100,  0.9697],\n",
       "        [-0.5300, -0.1600,  0.0000,  0.1100,  0.9225],\n",
       "        [ 0.8100,  0.8600,  0.1000,  0.7300,  1.2389],\n",
       "        [ 1.5600,  2.0000,  0.2300,  1.5800,  2.6354],\n",
       "        [ 0.6500,  0.8600,  0.0000,  0.5600,  2.1292],\n",
       "        [ 0.0000,  0.0000,  0.0000,  0.0000,  1.5176],\n",
       "        [ 0.9400,  1.0000,  0.1700,  0.4700,  1.0980],\n",
       "        [ 1.1200,  1.1400,  0.0000,  0.6600,  1.0218],\n",
       "        [ 1.8700,  2.3900,  0.6000,  2.4900,  2.4310],\n",
       "        [ 1.1900,  1.2600,  0.1300,  1.0500,  1.7605],\n",
       "        [ 1.8300,  1.5000,  0.1000,  0.8200,  2.2647],\n",
       "        [ 0.4400,  0.8100,  0.4800,  1.0800,  0.9716],\n",
       "        [ 0.6900,  0.7200,  0.0000,  0.6200,  1.2389],\n",
       "        [ 0.9900,  1.7200,  0.0000,  0.6000,  2.2040],\n",
       "        [ 0.7400,  0.2100,  0.0000,  0.2800,  1.8533],\n",
       "        [ 0.0100,  0.6600,  0.6200,  0.4500,  2.8601],\n",
       "        [ 0.7300,  0.9000,  0.6000,  0.3800,  1.7771],\n",
       "        [-0.0400, -0.0500,  0.2700,  0.1400,  1.5452],\n",
       "        [ 2.1600,  2.2500,  0.1800,  1.8500,  3.0907],\n",
       "        [ 0.9100,  0.6600,  0.8800,  0.6400,  0.9904],\n",
       "        [ 1.2700,  1.4500,  0.6500,  0.8100,  1.2195],\n",
       "        [ 0.9700,  1.3000,  0.0000,  0.5200,  1.1118],\n",
       "        [ 0.9500,  0.9200,  0.6700,  0.2600,  1.1765],\n",
       "        [ 0.1600,  0.5600,  0.0000,  0.4900,  1.2672],\n",
       "        [ 0.1500,  0.4900,  0.0000,  0.4500,  1.5490],\n",
       "        [-0.4800,  0.5600,  0.0000,  0.1800,  1.0457],\n",
       "        [ 1.9600,  1.1800,  0.0000,  0.2300,  1.8018],\n",
       "        [ 0.2200,  0.7200,  0.2100,  1.2100,  1.1301],\n",
       "        [ 0.3100,  1.2700,  0.4000,  0.7200,  0.9286],\n",
       "        [ 0.9100,  0.9200,  0.3400,  0.8000,  0.7927],\n",
       "        [ 0.2300,  0.4500,  0.6700,  1.2600,  2.4032],\n",
       "        [ 1.9300,  1.5600,  0.4400,  1.7700,  2.7980],\n",
       "        [ 2.1100,  1.5700,  0.0000,  0.0900,  1.9362],\n",
       "        [ 0.0000,  0.0000,  0.0000,  0.0000,  1.2358],\n",
       "        [ 0.8300,  0.6200,  0.0000,  0.1700,  1.0305],\n",
       "        [ 1.4100,  1.1500,  0.0000,  0.5000,  1.2439],\n",
       "        [-1.0400, -1.2400,  0.0000,  0.3500,  1.3781],\n",
       "        [ 1.2400,  1.3600,  0.0000,  0.6300,  1.4240],\n",
       "        [ 1.5900,  2.1200,  0.2000,  0.8500,  1.6804],\n",
       "        [ 0.4600, -0.2500,  0.5500,  0.4800,  0.8858],\n",
       "        [ 0.4900,  2.0900,  0.0300,  0.9800,  1.7606],\n",
       "        [ 1.0700,  1.6800,  0.1300,  0.7500,  0.9868],\n",
       "        [ 0.5100,  0.4700,  0.3200,  0.6900,  1.4247],\n",
       "        [ 1.1300,  0.9800,  0.4800,  0.5900,  0.9669],\n",
       "        [ 0.0000,  0.0000,  0.0000,  0.0000,  1.7994],\n",
       "        [ 1.3200,  0.9300,  0.0000,  0.5700,  1.3261],\n",
       "        [ 0.4100,  1.2000,  0.0000,  1.7500,  1.7025],\n",
       "        [-0.5200, -0.0800,  0.0000,  0.5400,  3.0766]])"
      ]
     },
     "execution_count": 9,
     "metadata": {},
     "output_type": "execute_result"
    }
   ],
   "source": [
    "result_label[0]"
   ]
  },
  {
   "cell_type": "markdown",
   "id": "e65a3671-ff4c-404d-b914-24e5f205eb6d",
   "metadata": {},
   "source": [
    "# dataframe"
   ]
  },
  {
   "cell_type": "code",
   "execution_count": 10,
   "id": "875f58f5-8032-477f-ba7a-aa8f79fab92c",
   "metadata": {},
   "outputs": [
    {
     "data": {
      "text/plain": [
       "0                                CCCc1cc(C)ccc1O\n",
       "1                                 CC(=O)CCC(=O)C\n",
       "2                             OC(=O)Cc1ccc(cc1)C\n",
       "3                                           CNCC\n",
       "4                                      CC(CC=C)O\n",
       "                          ...                   \n",
       "1023                           Ic1cccc(c1)C(=O)C\n",
       "1024                              CCCCCCCCCCCCCl\n",
       "1025      Clc1cc(Cl)cc(c1)c1c(Cl)cc(c(c1Cl)Cl)Cl\n",
       "1026                     CCOC(=O)CCCCCCCC(=O)OCC\n",
       "1027    CC(=NNC(=O)c1ccncc1)c1cccc(c1O)CN1CCOCC1\n",
       "Name: SMILES, Length: 1028, dtype: object"
      ]
     },
     "execution_count": 10,
     "metadata": {},
     "output_type": "execute_result"
    }
   ],
   "source": [
    "data_module.test_df['SMILES'].reset_index(drop=True)"
   ]
  },
  {
   "cell_type": "code",
   "execution_count": 11,
   "id": "ee6a251f-eb9c-482c-8ee8-be1e8b2c24fd",
   "metadata": {},
   "outputs": [
    {
     "data": {
      "text/html": [
       "<div>\n",
       "<style scoped>\n",
       "    .dataframe tbody tr th:only-of-type {\n",
       "        vertical-align: middle;\n",
       "    }\n",
       "\n",
       "    .dataframe tbody tr th {\n",
       "        vertical-align: top;\n",
       "    }\n",
       "\n",
       "    .dataframe thead th {\n",
       "        text-align: right;\n",
       "    }\n",
       "</style>\n",
       "<table border=\"1\" class=\"dataframe\">\n",
       "  <thead>\n",
       "    <tr style=\"text-align: right;\">\n",
       "      <th></th>\n",
       "      <th>SMILES</th>\n",
       "      <th>0</th>\n",
       "      <th>1</th>\n",
       "      <th>2</th>\n",
       "      <th>3</th>\n",
       "      <th>4</th>\n",
       "    </tr>\n",
       "  </thead>\n",
       "  <tbody>\n",
       "    <tr>\n",
       "      <th>0</th>\n",
       "      <td>CCCc1cc(C)ccc1O</td>\n",
       "      <td>0.815770</td>\n",
       "      <td>0.739354</td>\n",
       "      <td>0.345182</td>\n",
       "      <td>0.389789</td>\n",
       "      <td>1.343119</td>\n",
       "    </tr>\n",
       "    <tr>\n",
       "      <th>1</th>\n",
       "      <td>CC(=O)CCC(=O)C</td>\n",
       "      <td>0.266639</td>\n",
       "      <td>1.055772</td>\n",
       "      <td>0.020594</td>\n",
       "      <td>0.790178</td>\n",
       "      <td>0.979856</td>\n",
       "    </tr>\n",
       "    <tr>\n",
       "      <th>2</th>\n",
       "      <td>OC(=O)Cc1ccc(cc1)C</td>\n",
       "      <td>0.806450</td>\n",
       "      <td>0.993064</td>\n",
       "      <td>0.640236</td>\n",
       "      <td>0.572451</td>\n",
       "      <td>1.210571</td>\n",
       "    </tr>\n",
       "    <tr>\n",
       "      <th>3</th>\n",
       "      <td>CNCC</td>\n",
       "      <td>0.194782</td>\n",
       "      <td>0.414411</td>\n",
       "      <td>0.107041</td>\n",
       "      <td>0.615315</td>\n",
       "      <td>0.633372</td>\n",
       "    </tr>\n",
       "    <tr>\n",
       "      <th>4</th>\n",
       "      <td>CC(CC=C)O</td>\n",
       "      <td>0.245530</td>\n",
       "      <td>0.442788</td>\n",
       "      <td>0.319606</td>\n",
       "      <td>0.552818</td>\n",
       "      <td>0.852235</td>\n",
       "    </tr>\n",
       "    <tr>\n",
       "      <th>...</th>\n",
       "      <td>...</td>\n",
       "      <td>...</td>\n",
       "      <td>...</td>\n",
       "      <td>...</td>\n",
       "      <td>...</td>\n",
       "      <td>...</td>\n",
       "    </tr>\n",
       "    <tr>\n",
       "      <th>63</th>\n",
       "      <td>CCCCCCCC[Si](O[Si](C)(C)C)(O[Si](C)(C)C)C</td>\n",
       "      <td>1.390710</td>\n",
       "      <td>1.284074</td>\n",
       "      <td>0.017194</td>\n",
       "      <td>0.421718</td>\n",
       "      <td>1.258709</td>\n",
       "    </tr>\n",
       "    <tr>\n",
       "      <th>0</th>\n",
       "      <td>CCCc1cc(C)ccc1O</td>\n",
       "      <td>0.035455</td>\n",
       "      <td>0.068771</td>\n",
       "      <td>0.000337</td>\n",
       "      <td>-0.000562</td>\n",
       "      <td>1.951705</td>\n",
       "    </tr>\n",
       "    <tr>\n",
       "      <th>1</th>\n",
       "      <td>CC(=O)CCC(=O)C</td>\n",
       "      <td>2.183715</td>\n",
       "      <td>1.733424</td>\n",
       "      <td>-0.002669</td>\n",
       "      <td>0.100027</td>\n",
       "      <td>2.073741</td>\n",
       "    </tr>\n",
       "    <tr>\n",
       "      <th>2</th>\n",
       "      <td>OC(=O)Cc1ccc(cc1)C</td>\n",
       "      <td>0.075538</td>\n",
       "      <td>1.131518</td>\n",
       "      <td>-0.003029</td>\n",
       "      <td>1.014681</td>\n",
       "      <td>2.092385</td>\n",
       "    </tr>\n",
       "    <tr>\n",
       "      <th>3</th>\n",
       "      <td>CNCC</td>\n",
       "      <td>2.309325</td>\n",
       "      <td>2.554693</td>\n",
       "      <td>0.681648</td>\n",
       "      <td>2.249772</td>\n",
       "      <td>2.714899</td>\n",
       "    </tr>\n",
       "  </tbody>\n",
       "</table>\n",
       "<p>1028 rows × 6 columns</p>\n",
       "</div>"
      ],
      "text/plain": [
       "                                       SMILES         0         1         2  \\\n",
       "0                             CCCc1cc(C)ccc1O  0.815770  0.739354  0.345182   \n",
       "1                              CC(=O)CCC(=O)C  0.266639  1.055772  0.020594   \n",
       "2                          OC(=O)Cc1ccc(cc1)C  0.806450  0.993064  0.640236   \n",
       "3                                        CNCC  0.194782  0.414411  0.107041   \n",
       "4                                   CC(CC=C)O  0.245530  0.442788  0.319606   \n",
       "..                                        ...       ...       ...       ...   \n",
       "63  CCCCCCCC[Si](O[Si](C)(C)C)(O[Si](C)(C)C)C  1.390710  1.284074  0.017194   \n",
       "0                             CCCc1cc(C)ccc1O  0.035455  0.068771  0.000337   \n",
       "1                              CC(=O)CCC(=O)C  2.183715  1.733424 -0.002669   \n",
       "2                          OC(=O)Cc1ccc(cc1)C  0.075538  1.131518 -0.003029   \n",
       "3                                        CNCC  2.309325  2.554693  0.681648   \n",
       "\n",
       "           3         4  \n",
       "0   0.389789  1.343119  \n",
       "1   0.790178  0.979856  \n",
       "2   0.572451  1.210571  \n",
       "3   0.615315  0.633372  \n",
       "4   0.552818  0.852235  \n",
       "..       ...       ...  \n",
       "63  0.421718  1.258709  \n",
       "0  -0.000562  1.951705  \n",
       "1   0.100027  2.073741  \n",
       "2   1.014681  2.092385  \n",
       "3   2.249772  2.714899  \n",
       "\n",
       "[1028 rows x 6 columns]"
      ]
     },
     "execution_count": 11,
     "metadata": {},
     "output_type": "execute_result"
    }
   ],
   "source": [
    "list_df_predict = list()\n",
    "for i in result_pred:\n",
    "    local_df_predict = pd.DataFrame(np.array(i))\n",
    "    list_df_predict.append(local_df_predict)\n",
    "\n",
    "df_predict = pd.concat(list_df_predict)\n",
    "df_predict.insert(0, \"SMILES\", data_module.test_df['SMILES'].reset_index(drop=True))\n",
    "df_predict\n"
   ]
  },
  {
   "cell_type": "code",
   "execution_count": 12,
   "id": "ea7ca54f-822f-4d14-b732-78f96abb5ac1",
   "metadata": {},
   "outputs": [
    {
     "data": {
      "text/html": [
       "<div>\n",
       "<style scoped>\n",
       "    .dataframe tbody tr th:only-of-type {\n",
       "        vertical-align: middle;\n",
       "    }\n",
       "\n",
       "    .dataframe tbody tr th {\n",
       "        vertical-align: top;\n",
       "    }\n",
       "\n",
       "    .dataframe thead th {\n",
       "        text-align: right;\n",
       "    }\n",
       "</style>\n",
       "<table border=\"1\" class=\"dataframe\">\n",
       "  <thead>\n",
       "    <tr style=\"text-align: right;\">\n",
       "      <th></th>\n",
       "      <th>SMILES</th>\n",
       "      <th>label_0</th>\n",
       "      <th>label_1</th>\n",
       "      <th>label_2</th>\n",
       "      <th>label_3</th>\n",
       "      <th>label_4</th>\n",
       "    </tr>\n",
       "  </thead>\n",
       "  <tbody>\n",
       "    <tr>\n",
       "      <th>0</th>\n",
       "      <td>CCCc1cc(C)ccc1O</td>\n",
       "      <td>0.82</td>\n",
       "      <td>0.80</td>\n",
       "      <td>0.53</td>\n",
       "      <td>0.38</td>\n",
       "      <td>1.3387</td>\n",
       "    </tr>\n",
       "    <tr>\n",
       "      <th>1</th>\n",
       "      <td>CC(=O)CCC(=O)C</td>\n",
       "      <td>0.26</td>\n",
       "      <td>1.31</td>\n",
       "      <td>0.06</td>\n",
       "      <td>0.81</td>\n",
       "      <td>0.9854</td>\n",
       "    </tr>\n",
       "    <tr>\n",
       "      <th>2</th>\n",
       "      <td>OC(=O)Cc1ccc(cc1)C</td>\n",
       "      <td>0.73</td>\n",
       "      <td>0.97</td>\n",
       "      <td>0.60</td>\n",
       "      <td>0.64</td>\n",
       "      <td>1.2135</td>\n",
       "    </tr>\n",
       "    <tr>\n",
       "      <th>3</th>\n",
       "      <td>CNCC</td>\n",
       "      <td>0.18</td>\n",
       "      <td>0.35</td>\n",
       "      <td>0.08</td>\n",
       "      <td>0.63</td>\n",
       "      <td>0.6311</td>\n",
       "    </tr>\n",
       "    <tr>\n",
       "      <th>4</th>\n",
       "      <td>CC(CC=C)O</td>\n",
       "      <td>0.29</td>\n",
       "      <td>0.45</td>\n",
       "      <td>0.30</td>\n",
       "      <td>0.41</td>\n",
       "      <td>0.8288</td>\n",
       "    </tr>\n",
       "    <tr>\n",
       "      <th>...</th>\n",
       "      <td>...</td>\n",
       "      <td>...</td>\n",
       "      <td>...</td>\n",
       "      <td>...</td>\n",
       "      <td>...</td>\n",
       "      <td>...</td>\n",
       "    </tr>\n",
       "    <tr>\n",
       "      <th>1023</th>\n",
       "      <td>Ic1cccc(c1)C(=O)C</td>\n",
       "      <td>1.37</td>\n",
       "      <td>1.23</td>\n",
       "      <td>0.00</td>\n",
       "      <td>0.43</td>\n",
       "      <td>1.2721</td>\n",
       "    </tr>\n",
       "    <tr>\n",
       "      <th>1024</th>\n",
       "      <td>CCCCCCCCCCCCCl</td>\n",
       "      <td>0.18</td>\n",
       "      <td>0.40</td>\n",
       "      <td>0.00</td>\n",
       "      <td>0.10</td>\n",
       "      <td>1.9218</td>\n",
       "    </tr>\n",
       "    <tr>\n",
       "      <th>1025</th>\n",
       "      <td>Clc1cc(Cl)cc(c1)c1c(Cl)cc(c(c1Cl)Cl)Cl</td>\n",
       "      <td>2.19</td>\n",
       "      <td>1.74</td>\n",
       "      <td>0.00</td>\n",
       "      <td>0.11</td>\n",
       "      <td>2.0586</td>\n",
       "    </tr>\n",
       "    <tr>\n",
       "      <th>1026</th>\n",
       "      <td>CCOC(=O)CCCCCCCC(=O)OCC</td>\n",
       "      <td>0.06</td>\n",
       "      <td>1.10</td>\n",
       "      <td>0.00</td>\n",
       "      <td>1.02</td>\n",
       "      <td>2.0891</td>\n",
       "    </tr>\n",
       "    <tr>\n",
       "      <th>1027</th>\n",
       "      <td>CC(=NNC(=O)c1ccncc1)c1cccc(c1O)CN1CCOCC1</td>\n",
       "      <td>2.34</td>\n",
       "      <td>2.74</td>\n",
       "      <td>0.75</td>\n",
       "      <td>2.19</td>\n",
       "      <td>2.6912</td>\n",
       "    </tr>\n",
       "  </tbody>\n",
       "</table>\n",
       "<p>1028 rows × 6 columns</p>\n",
       "</div>"
      ],
      "text/plain": [
       "                                        SMILES  label_0  label_1  label_2  \\\n",
       "0                              CCCc1cc(C)ccc1O     0.82     0.80     0.53   \n",
       "1                               CC(=O)CCC(=O)C     0.26     1.31     0.06   \n",
       "2                           OC(=O)Cc1ccc(cc1)C     0.73     0.97     0.60   \n",
       "3                                         CNCC     0.18     0.35     0.08   \n",
       "4                                    CC(CC=C)O     0.29     0.45     0.30   \n",
       "...                                        ...      ...      ...      ...   \n",
       "1023                         Ic1cccc(c1)C(=O)C     1.37     1.23     0.00   \n",
       "1024                            CCCCCCCCCCCCCl     0.18     0.40     0.00   \n",
       "1025    Clc1cc(Cl)cc(c1)c1c(Cl)cc(c(c1Cl)Cl)Cl     2.19     1.74     0.00   \n",
       "1026                   CCOC(=O)CCCCCCCC(=O)OCC     0.06     1.10     0.00   \n",
       "1027  CC(=NNC(=O)c1ccncc1)c1cccc(c1O)CN1CCOCC1     2.34     2.74     0.75   \n",
       "\n",
       "      label_3  label_4  \n",
       "0        0.38   1.3387  \n",
       "1        0.81   0.9854  \n",
       "2        0.64   1.2135  \n",
       "3        0.63   0.6311  \n",
       "4        0.41   0.8288  \n",
       "...       ...      ...  \n",
       "1023     0.43   1.2721  \n",
       "1024     0.10   1.9218  \n",
       "1025     0.11   2.0586  \n",
       "1026     1.02   2.0891  \n",
       "1027     2.19   2.6912  \n",
       "\n",
       "[1028 rows x 6 columns]"
      ]
     },
     "execution_count": 12,
     "metadata": {},
     "output_type": "execute_result"
    }
   ],
   "source": [
    "df_label = data_module.test_df.reset_index(drop=True)\n",
    "df_label"
   ]
  },
  {
   "cell_type": "code",
   "execution_count": null,
   "id": "d656b42f-d067-4fde-a292-90f2c4548542",
   "metadata": {},
   "outputs": [],
   "source": []
  }
 ],
 "metadata": {
  "kernelspec": {
   "display_name": "chemllm",
   "language": "python",
   "name": "chemllm"
  },
  "language_info": {
   "codemirror_mode": {
    "name": "ipython",
    "version": 3
   },
   "file_extension": ".py",
   "mimetype": "text/x-python",
   "name": "python",
   "nbconvert_exporter": "python",
   "pygments_lexer": "ipython3",
   "version": "3.11.3"
  }
 },
 "nbformat": 4,
 "nbformat_minor": 5
}
